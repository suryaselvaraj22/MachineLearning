{
 "cells": [
  {
   "cell_type": "code",
   "execution_count": 1,
   "metadata": {},
   "outputs": [],
   "source": [
    "# Import Libraries\n",
    "\n",
    "from bs4 import BeautifulSoup\n",
    "import requests\n",
    "import time \n",
    "import datetime\n",
    "\n",
    "import smtplib"
   ]
  },
  {
   "cell_type": "code",
   "execution_count": 19,
   "metadata": {},
   "outputs": [],
   "source": [
    "# Connect to URL \n",
    "\n",
    "URL = 'https://www.amazon.ca/KitchenAid-KP26M1XER-Professional-6-Quart-Bowl-Lift/dp/B000P9CWNY/ref=sr_1_3?crid=15ZPRJ0HASZEO&keywords=kitchenaid+mixer&qid=1646896556&sprefix=%2Caps%2C87&sr=8-3'\n",
    "# Get headers \n",
    "\n",
    "headers = {\"User-Agent\": \"Mozilla/5.0 (Macintosh; Intel Mac OS X 10_15_7) AppleWebKit/537.36 (KHTML, like Gecko) Chrome/99.0.4844.51 Safari/537.36\", \"Accept-Encoding\":\"gzip, deflate\", \"Accept\":\"text/html,application/xhtml+xml,application/xml;q=0.9,*/*;q=0.8\", \"DNT\":\"1\",\"Connection\":\"close\", \"Upgrade-Insecure-Requests\":\"1\"}\n",
    "page = requests.get(URL, headers=headers)"
   ]
  },
  {
   "cell_type": "code",
   "execution_count": null,
   "metadata": {},
   "outputs": [],
   "source": [
    "# Get the content (HTML page)\n",
    "\n",
    "soup = BeautifulSoup(page.content, 'html.parser')\n",
    "print(soup)"
   ]
  },
  {
   "cell_type": "code",
   "execution_count": null,
   "metadata": {},
   "outputs": [],
   "source": [
    "# Prettify - more readable formatting of HTML \n",
    "\n",
    "prettysoup = BeautifulSoup(soup.prettify(), 'html.parser')\n",
    "print(prettysoup)"
   ]
  },
  {
   "cell_type": "code",
   "execution_count": 22,
   "metadata": {},
   "outputs": [
    {
     "name": "stdout",
     "output_type": "stream",
     "text": [
      "\n",
      "     KitchenAid KP26M1XER Professional 600 Series 6-Quart Bowl-Lift Stand Mixer, Empire Red\n",
      "    \n"
     ]
    }
   ],
   "source": [
    "# Extract Product Title \n",
    "\n",
    "title = prettysoup.find(id='productTitle').get_text()\n",
    "print(title)"
   ]
  },
  {
   "cell_type": "code",
   "execution_count": 23,
   "metadata": {},
   "outputs": [
    {
     "name": "stdout",
     "output_type": "stream",
     "text": [
      "\n",
      "                        $599.98\n",
      "                       \n"
     ]
    }
   ],
   "source": [
    "# Extract Price \n",
    "\n",
    "price = prettysoup.find('span', 'a-offscreen').get_text()\n",
    "print(price)"
   ]
  },
  {
   "cell_type": "code",
   "execution_count": 25,
   "metadata": {},
   "outputs": [
    {
     "name": "stdout",
     "output_type": "stream",
     "text": [
      "KitchenAid KP26M1XER Professional 600 Series 6-Quart Bowl-Lift Stand Mixer, Empire Red\n",
      "599.98\n"
     ]
    }
   ],
   "source": [
    "# Clean up the data \n",
    "\n",
    "price = price.strip()[1:]\n",
    "title = title.strip()\n",
    "print(title)\n",
    "print(price)"
   ]
  },
  {
   "cell_type": "code",
   "execution_count": 29,
   "metadata": {},
   "outputs": [
    {
     "name": "stdout",
     "output_type": "stream",
     "text": [
      "2022-03-10\n"
     ]
    }
   ],
   "source": [
    "# Get the date \n",
    "\n",
    "import datetime\n",
    "\n",
    "today = datetime.date.today()\n",
    "print(today)"
   ]
  },
  {
   "cell_type": "code",
   "execution_count": 30,
   "metadata": {},
   "outputs": [],
   "source": [
    "# Create and write into a csv\n",
    "\n",
    "import csv\n",
    "\n",
    "header = ['Product', 'Price', 'Date']\n",
    "data = [title, price, today]\n",
    "\n",
    "with open('AmazonWebScraperDataset.csv', 'w', newline='', encoding='UTF8') as f:\n",
    "    writer = csv.writer(f)\n",
    "    writer.writerow(header)\n",
    "    writer.writerow(data)"
   ]
  },
  {
   "cell_type": "code",
   "execution_count": 31,
   "metadata": {},
   "outputs": [
    {
     "data": {
      "text/html": [
       "<div>\n",
       "<style scoped>\n",
       "    .dataframe tbody tr th:only-of-type {\n",
       "        vertical-align: middle;\n",
       "    }\n",
       "\n",
       "    .dataframe tbody tr th {\n",
       "        vertical-align: top;\n",
       "    }\n",
       "\n",
       "    .dataframe thead th {\n",
       "        text-align: right;\n",
       "    }\n",
       "</style>\n",
       "<table border=\"1\" class=\"dataframe\">\n",
       "  <thead>\n",
       "    <tr style=\"text-align: right;\">\n",
       "      <th></th>\n",
       "      <th>Product</th>\n",
       "      <th>Price</th>\n",
       "      <th>Date</th>\n",
       "    </tr>\n",
       "  </thead>\n",
       "  <tbody>\n",
       "    <tr>\n",
       "      <th>0</th>\n",
       "      <td>KitchenAid KP26M1XER Professional 600 Series 6...</td>\n",
       "      <td>599.98</td>\n",
       "      <td>2022-03-10</td>\n",
       "    </tr>\n",
       "  </tbody>\n",
       "</table>\n",
       "</div>"
      ],
      "text/plain": [
       "                                             Product   Price        Date\n",
       "0  KitchenAid KP26M1XER Professional 600 Series 6...  599.98  2022-03-10"
      ]
     },
     "execution_count": 31,
     "metadata": {},
     "output_type": "execute_result"
    }
   ],
   "source": [
    "# Check the data \n",
    "\n",
    "import pandas as pd\n",
    "\n",
    "df = pd.read_csv('AmazonWebScraperDataset.csv')\n",
    "df.head()"
   ]
  },
  {
   "cell_type": "code",
   "execution_count": null,
   "metadata": {},
   "outputs": [],
   "source": [
    "# Now we need to append data to this csv - maybe add more products from my wishlist later!\n",
    "\n",
    "with open('AmazonWebScraperDataset.csv', 'a+', newline='', encoding='UTF8') as f:\n",
    "    writer = csv.writer(f)\n",
    "    writer.writerow(data)"
   ]
  },
  {
   "cell_type": "code",
   "execution_count": 34,
   "metadata": {},
   "outputs": [],
   "source": [
    "# Sending alerts to my email \n",
    "\n",
    "def sendEMail():\n",
    "    server = smtplib.SMTP_SSL('smtp.gmail.com',465)\n",
    "    server.ehlo()\n",
    "    #server.starttls()\n",
    "    server.ehlo()\n",
    "    server.login('nivi1622@gmail.com','xxxxxxxxxx')\n",
    "    \n",
    "    subject = \"The KitchenAid Professional Mixer you want is below $400! Now is your chance to buy!\"\n",
    "    body = \"Nivi, This is the moment we have been waiting for. Now is your chance to pick up the gorgeous KitchenAid of your dreams. Don't mess it up! Link here: https://www.amazon.ca/KitchenAid-KP26M1XER-Professional-6-Quart-Bowl-Lift/dp/B000P9CWNY/ref=sr_1_3?crid=15ZPRJ0HASZEO&keywords=kitchenaid+mixer&qid=1646896556&sprefix=%2Caps%2C87&sr=8-3\"\n",
    "   \n",
    "    msg = f\"Subject: {subject}\\n\\n{body}\"\n",
    "    \n",
    "    server.sendmail(\n",
    "        'nivi1622@gmail.com',\n",
    "        msg\n",
    "     \n",
    "    )"
   ]
  },
  {
   "cell_type": "code",
   "execution_count": 39,
   "metadata": {},
   "outputs": [],
   "source": [
    "# Now we can automate this into a method \n",
    "\n",
    "def checkPrice():\n",
    "    # Connect to URL \n",
    "\n",
    "    URL = 'https://www.amazon.ca/KitchenAid-KP26M1XER-Professional-6-Quart-Bowl-Lift/dp/B000P9CWNY/ref=sr_1_3?crid=15ZPRJ0HASZEO&keywords=kitchenaid+mixer&qid=1646896556&sprefix=%2Caps%2C87&sr=8-3'\n",
    "    \n",
    "    # Get headers \n",
    "\n",
    "    headers = {\"User-Agent\": \"Mozilla/5.0 (Macintosh; Intel Mac OS X 10_15_7) AppleWebKit/537.36 (KHTML, like Gecko) Chrome/99.0.4844.51 Safari/537.36\", \"Accept-Encoding\":\"gzip, deflate\", \"Accept\":\"text/html,application/xhtml+xml,application/xml;q=0.9,*/*;q=0.8\", \"DNT\":\"1\",\"Connection\":\"close\", \"Upgrade-Insecure-Requests\":\"1\"}\n",
    "    page = requests.get(URL, headers=headers)\n",
    "    \n",
    "    # Get the content (HTML page)\n",
    "\n",
    "    soup = BeautifulSoup(page.content, 'html.parser')\n",
    "    \n",
    "    # Prettify - more readable formatting of HTML \n",
    "\n",
    "    prettysoup = BeautifulSoup(soup.prettify(), 'html.parser')\n",
    "    \n",
    "    # Extract Product Title \n",
    "\n",
    "    title = prettysoup.find(id='productTitle').get_text()\n",
    "    \n",
    "    # Extract Price \n",
    "\n",
    "    price = prettysoup.find('span', 'a-offscreen').get_text()\n",
    "    \n",
    "    # Clean up the data \n",
    "\n",
    "    price = price.strip()[1:]\n",
    "    title = title.strip()\n",
    "    \n",
    "    # Get the date \n",
    "\n",
    "    import datetime\n",
    "\n",
    "    today = datetime.date.today()\n",
    "    \n",
    "    # Create and write into a csv\n",
    "\n",
    "    import csv\n",
    "\n",
    "    header = ['Product', 'Price', 'Date']\n",
    "    data = [title, price, today]\n",
    "    \n",
    "    # Now we need to append data to this csv - maybe add more products from my wishlist later!\n",
    "\n",
    "    with open('AmazonWebScraperDataset.csv', 'a+', newline='', encoding='UTF8') as f:\n",
    "        writer = csv.writer(f)\n",
    "        writer.writerow(data)\n",
    "        \n",
    "    if(price < '400'):\n",
    "        sendEMail()\n",
    "    "
   ]
  },
  {
   "cell_type": "code",
   "execution_count": 40,
   "metadata": {},
   "outputs": [
    {
     "ename": "KeyboardInterrupt",
     "evalue": "",
     "output_type": "error",
     "traceback": [
      "\u001b[0;31m---------------------------------------------------------------------------\u001b[0m",
      "\u001b[0;31mKeyboardInterrupt\u001b[0m                         Traceback (most recent call last)",
      "\u001b[0;32m<ipython-input-40-50d4fb8012a8>\u001b[0m in \u001b[0;36m<module>\u001b[0;34m\u001b[0m\n\u001b[1;32m      5\u001b[0m     \u001b[0mcheckPrice\u001b[0m\u001b[0;34m(\u001b[0m\u001b[0;34m)\u001b[0m\u001b[0;34m\u001b[0m\u001b[0;34m\u001b[0m\u001b[0m\n\u001b[1;32m      6\u001b[0m     \u001b[0;31m# Set a sleep time - every n secs - eg: Check price every day!\u001b[0m\u001b[0;34m\u001b[0m\u001b[0;34m\u001b[0m\u001b[0;34m\u001b[0m\u001b[0m\n\u001b[0;32m----> 7\u001b[0;31m     \u001b[0mtime\u001b[0m\u001b[0;34m.\u001b[0m\u001b[0msleep\u001b[0m\u001b[0;34m(\u001b[0m\u001b[0;36m86400\u001b[0m \u001b[0;34m)\u001b[0m\u001b[0;34m\u001b[0m\u001b[0;34m\u001b[0m\u001b[0m\n\u001b[0m",
      "\u001b[0;31mKeyboardInterrupt\u001b[0m: "
     ]
    }
   ],
   "source": [
    "# Put this into a timer so you can periodically check price\n",
    "\n",
    "while(True):\n",
    "    # Call the method\n",
    "    checkPrice()\n",
    "    # Set a sleep time - every n secs - eg: Check price every day!\n",
    "    time.sleep(86400 )"
   ]
  },
  {
   "cell_type": "markdown",
   "metadata": {},
   "source": [
    "# Have an awesome Black Friday! :D"
   ]
  },
  {
   "cell_type": "code",
   "execution_count": null,
   "metadata": {},
   "outputs": [],
   "source": []
  }
 ],
 "metadata": {
  "kernelspec": {
   "display_name": "Python 3",
   "language": "python",
   "name": "python3"
  },
  "language_info": {
   "codemirror_mode": {
    "name": "ipython",
    "version": 3
   },
   "file_extension": ".py",
   "mimetype": "text/x-python",
   "name": "python",
   "nbconvert_exporter": "python",
   "pygments_lexer": "ipython3",
   "version": "3.8.5"
  }
 },
 "nbformat": 4,
 "nbformat_minor": 4
}
